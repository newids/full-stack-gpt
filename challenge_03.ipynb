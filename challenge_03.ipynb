{
 "cells": [
  {
   "cell_type": "code",
   "execution_count": 24,
   "id": "9cb97226",
   "metadata": {},
   "outputs": [],
   "source": [
    "from langchain.chat_models import ChatOpenAI\n",
    "from langchain.prompts import ChatPromptTemplate, MessagesPlaceholder\n",
    "from langchain.prompts.few_shot import FewShotChatMessagePromptTemplate\n",
    "from langchain.memory import ConversationSummaryBufferMemory\n",
    "from langchain.schema.runnable import RunnablePassthrough\n",
    "\n",
    "llm = ChatOpenAI(\n",
    "    model=\"gpt-3.5-turbo\",\n",
    "    temperature=0.1,\n",
    ")\n",
    "\n",
    "memory = ConversationSummaryBufferMemory(\n",
    "    llm=llm,\n",
    "    max_token_limit=120,\n",
    "    return_messages=True,\n",
    ")\n",
    "\n",
    "def load_memory(_):\n",
    "    return memory.load_memory_variables({})[\"history\"]\n",
    "\n",
    "examples = [\n",
    "    {\n",
    "        \"input\": \"Top Gun\",\n",
    "        \"output\": \"🛩️👨‍✈️🔥\"\n",
    "    },\n",
    "    {\n",
    "        \"input\": \"The Godfather\",\n",
    "        \"output\": \"👨‍👨‍👦🔫🍝\"\n",
    "    },\n",
    "]\n",
    "\n",
    "example_prompt = ChatPromptTemplate.from_messages([\n",
    "    (\"human\", \"{input}\"),\n",
    "    (\"ai\", \"{output}\")\n",
    "])\n",
    "\n",
    "few_shot_prompt = FewShotChatMessagePromptTemplate(\n",
    "    example_prompt=example_prompt,\n",
    "    examples=examples,\n",
    ")\n",
    "\n",
    "final_prompt = ChatPromptTemplate.from_messages([\n",
    "    (\"system\", \"You are a creative assistant that converts movie titles into exactly three emojis. \"\n",
    "               \"Always respond with exactly 3 emojis that best represent the movie. \"\n",
    "               \"Do not include any text, just the three emojis.\"),\n",
    "    few_shot_prompt,\n",
    "    MessagesPlaceholder(variable_name=\"history\"),\n",
    "    (\"human\", \"{input}\")\n",
    "])\n",
    "\n",
    "chain = RunnablePassthrough.assign(history=load_memory) | final_prompt | llm\n",
    "\n",
    "def ask_movie(movie_title):\n",
    "    response = chain.invoke({\"input\": movie_title,})\n",
    "    \n",
    "    memory.save_context(\n",
    "        {\"input\": movie_title},\n",
    "        {\"output\": response.content}\n",
    "    )\n",
    "\n",
    "    print(f'\"{movie_title}\" -> \"{response.content}\"')"
   ]
  },
  {
   "cell_type": "code",
   "execution_count": 25,
   "id": "59b59f26",
   "metadata": {},
   "outputs": [
    {
     "name": "stdout",
     "output_type": "stream",
     "text": [
      "\"The Matrix\" -> \"🕶️💊💥\"\n"
     ]
    }
   ],
   "source": [
    "ask_movie(\"The Matrix\")"
   ]
  },
  {
   "cell_type": "code",
   "execution_count": 26,
   "id": "4e6cf5e8",
   "metadata": {},
   "outputs": [
    {
     "name": "stdout",
     "output_type": "stream",
     "text": [
      "\"Finding Nemo\" -> \"🐠🔍🌊\"\n"
     ]
    }
   ],
   "source": [
    "ask_movie(\"Finding Nemo\")"
   ]
  },
  {
   "cell_type": "code",
   "execution_count": 27,
   "id": "823fd3e5",
   "metadata": {},
   "outputs": [
    {
     "name": "stdout",
     "output_type": "stream",
     "text": [
      "\"Squid game\" -> \"🦑🎮💰\"\n"
     ]
    }
   ],
   "source": [
    "ask_movie(\"Squid game\")"
   ]
  },
  {
   "cell_type": "code",
   "execution_count": 28,
   "id": "f2dea291",
   "metadata": {},
   "outputs": [
    {
     "name": "stdout",
     "output_type": "stream",
     "text": [
      "\"Parasite\" -> \"🏠👨‍👩‍👧‍👦💰\"\n"
     ]
    }
   ],
   "source": [
    "ask_movie(\"Parasite\")"
   ]
  },
  {
   "cell_type": "code",
   "execution_count": 29,
   "id": "b4bcfce9",
   "metadata": {},
   "outputs": [
    {
     "name": "stdout",
     "output_type": "stream",
     "text": [
      "\"Titanic\" -> \"🚢❄️💔\"\n"
     ]
    }
   ],
   "source": [
    "ask_movie(\"Titanic\")"
   ]
  },
  {
   "cell_type": "code",
   "execution_count": 30,
   "id": "530250b7",
   "metadata": {},
   "outputs": [
    {
     "name": "stdout",
     "output_type": "stream",
     "text": [
      "\"Harry Potter\" -> \"⚡🧙‍♂️🔮\"\n"
     ]
    }
   ],
   "source": [
    "ask_movie(\"Harry Potter\")"
   ]
  },
  {
   "cell_type": "code",
   "execution_count": 31,
   "id": "48da27b1",
   "metadata": {},
   "outputs": [
    {
     "name": "stdout",
     "output_type": "stream",
     "text": [
      "\"Jurassic Park\" -> \"🦖🌴🚗\"\n"
     ]
    }
   ],
   "source": [
    "ask_movie(\"Jurassic Park\")"
   ]
  }
 ],
 "metadata": {
  "kernelspec": {
   "display_name": "venv (3.10.12)",
   "language": "python",
   "name": "python3"
  },
  "language_info": {
   "codemirror_mode": {
    "name": "ipython",
    "version": 3
   },
   "file_extension": ".py",
   "mimetype": "text/x-python",
   "name": "python",
   "nbconvert_exporter": "python",
   "pygments_lexer": "ipython3",
   "version": "3.10.12"
  }
 },
 "nbformat": 4,
 "nbformat_minor": 5
}
