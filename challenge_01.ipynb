{
 "cells": [
  {
   "cell_type": "code",
   "execution_count": 5,
   "id": "113bab74",
   "metadata": {},
   "outputs": [],
   "source": [
    "from langchain.chat_models import ChatOpenAI\n",
    "from langchain.prompts import ChatPromptTemplate\n",
    "from langchain.callbacks import StreamingStdOutCallbackHandler\n",
    "\n",
    "chat = ChatOpenAI(\n",
    "    model=\"gpt-3.5-turbo\",\n",
    "    temperature=0.1,\n",
    "    streaming=True,\n",
    "    callbacks=[\n",
    "        StreamingStdOutCallbackHandler(),\n",
    "    ],\n",
    ")"
   ]
  },
  {
   "cell_type": "code",
   "execution_count": 6,
   "id": "7f1e6671",
   "metadata": {},
   "outputs": [],
   "source": [
    "writing_haikus = ChatPromptTemplate.from_messages(\n",
    "    [\n",
    "        (\n",
    "            \"system\", \"You are specialized in writing Haikus about programming languages.\",\n",
    "        ),\n",
    "        (\n",
    "            \"human\", \"Write a Haikus about {language}.\",\n",
    "        ),\n",
    "    ]\n",
    ")\n",
    "\n",
    "writing_haikus_chain = writing_haikus | chat"
   ]
  },
  {
   "cell_type": "code",
   "execution_count": 7,
   "id": "c6c46074",
   "metadata": {},
   "outputs": [],
   "source": [
    "explaining_haikus = ChatPromptTemplate.from_messages(\n",
    "    [\n",
    "        (\n",
    "            \"system\", \"You are specialized in explaining Haikus about programming languages.\",\n",
    "        ),\n",
    "        (\n",
    "            \"human\", \"explain this Haikus: {haikus}.\",\n",
    "        ),\n",
    "    ]\n",
    ")\n",
    "\n",
    "explaining_haikus_chain = explaining_haikus | chat"
   ]
  },
  {
   "cell_type": "code",
   "execution_count": 8,
   "id": "9ebb04f2",
   "metadata": {},
   "outputs": [
    {
     "name": "stdout",
     "output_type": "stream",
     "text": [
      "Dynamic and fast,\n",
      "JavaScript rules the web world,\n",
      "Endless possibilities.This Haiku beautifully captures the essence of JavaScript, a dynamic and fast programming language that dominates the web world. It highlights the endless possibilities that JavaScript offers for creating interactive and engaging web applications. The language's versatility and widespread use make it a powerful tool for developers to bring their ideas to life on the web."
     ]
    },
    {
     "data": {
      "text/plain": [
       "AIMessageChunk(content=\"This Haiku beautifully captures the essence of JavaScript, a dynamic and fast programming language that dominates the web world. It highlights the endless possibilities that JavaScript offers for creating interactive and engaging web applications. The language's versatility and widespread use make it a powerful tool for developers to bring their ideas to life on the web.\")"
      ]
     },
     "execution_count": 8,
     "metadata": {},
     "output_type": "execute_result"
    }
   ],
   "source": [
    "final_chain = {\"haikus\": writing_haikus_chain} | explaining_haikus_chain\n",
    "\n",
    "final_chain.invoke({\"language\": \"Javascript\"})"
   ]
  }
 ],
 "metadata": {
  "kernelspec": {
   "display_name": "venv (3.10.12)",
   "language": "python",
   "name": "python3"
  },
  "language_info": {
   "codemirror_mode": {
    "name": "ipython",
    "version": 3
   },
   "file_extension": ".py",
   "mimetype": "text/x-python",
   "name": "python",
   "nbconvert_exporter": "python",
   "pygments_lexer": "ipython3",
   "version": "3.10.12"
  }
 },
 "nbformat": 4,
 "nbformat_minor": 5
}
