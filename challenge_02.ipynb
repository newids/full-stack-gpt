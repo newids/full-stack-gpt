{
 "cells": [
  {
   "cell_type": "code",
   "execution_count": 1,
   "id": "99e111bb",
   "metadata": {},
   "outputs": [],
   "source": [
    "from langchain.chat_models import ChatOpenAI\n",
    "from langchain.prompts.few_shot import FewShotChatMessagePromptTemplate\n",
    "from langchain.callbacks import StreamingStdOutCallbackHandler\n",
    "from langchain.prompts import ChatMessagePromptTemplate, ChatPromptTemplate\n",
    "\n",
    "chat = ChatOpenAI(\n",
    "    temperature=0.1,\n",
    "    streaming=True,\n",
    "    callbacks=[\n",
    "        StreamingStdOutCallbackHandler(),\n",
    "    ],\n",
    ")"
   ]
  },
  {
   "cell_type": "code",
   "execution_count": 5,
   "id": "5e25311c",
   "metadata": {},
   "outputs": [],
   "source": [
    "examples = [\n",
    "    {\n",
    "        \"title\": \"Inception\",\n",
    "        \"answer\": {\n",
    "            \"year\": 2010,\n",
    "            \"director\": \"Christopher Nolan\",\n",
    "            \"mainCast\": [\n",
    "                \"Leonardo DiCaprio\",\n",
    "                \"Joseph Gordon-Levitt\",\n",
    "                \"Ellen Page\",\n",
    "                \"Tom Hardy\",\n",
    "                \"Marion Cotillard\"\n",
    "            ],\n",
    "            \"genre\": [\"Science Fiction\", \"Action\", \"Thriller\"],\n",
    "            \"budget\": \"$160,000,000\",\n",
    "            \"boxOffice\": \"$836,800,000\",\n",
    "            \"synopsis\": \"A skilled thief who steals corporate secrets through dream-sharing technology is given the inverse task of planting an idea into the mind of a CEO, leading him through layers of dreams within dreams.\"\n",
    "        }, },\n",
    "    {\n",
    "        \"title\": \"The Shawshank Redemption\",\n",
    "        \"answer\": {\n",
    "            \"year\": 1994,\n",
    "            \"director\": \"Frank Darabont\",\n",
    "            \"mainCast\": [\n",
    "                \"Tim Robbins\",\n",
    "                \"Morgan Freeman\",\n",
    "                \"Bob Gunton\",\n",
    "                \"William Sadler\",\n",
    "                \"Clancy Brown\"\n",
    "            ],\n",
    "            \"genre\": [\"Drama\"],\n",
    "            \"budget\": \"$25,000,000\",\n",
    "            \"boxOffice\": \"$28,341,469\",\n",
    "            \"synopsis\": \"Two imprisoned men bond over a number of years, finding solace and eventual redemption through acts of common decency while one quietly plans an elaborate escape.\"\n",
    "        }, },\n",
    "    {\n",
    "        \"title\": \"Parasite\",\n",
    "        \"answer\": {\n",
    "            \"year\": 2019,\n",
    "            \"director\": \"Bong Joon-ho\",\n",
    "            \"mainCast\": [\n",
    "                \"Song Kang-ho\",\n",
    "                \"Lee Sun-kyun\",\n",
    "                \"Cho Yeo-jeong\",\n",
    "                \"Choi Woo-shik\",\n",
    "                \"Park So-dam\"\n",
    "            ],\n",
    "            \"genre\": [\"Thriller\", \"Drama\", \"Dark Comedy\"],\n",
    "            \"budget\": \"$11,400,000\",\n",
    "            \"boxOffice\": \"$258,800,000\",\n",
    "            \"synopsis\": \"A poor family schemes to become employed by a wealthy family by infiltrating their household and posing as unrelated, highly qualified individuals, leading to unexpected consequences.\"\n",
    "        }, },\n",
    "    {\n",
    "        \"title\": \"The Dark Knight\",\n",
    "        \"answer\": {\n",
    "            \"year\": 2008,\n",
    "            \"director\": \"Christopher Nolan\",\n",
    "            \"mainCast\": [\n",
    "                \"Christian Bale\",\n",
    "                \"Heath Ledger\",\n",
    "                \"Aaron Eckhart\",\n",
    "                \"Michael Caine\",\n",
    "                \"Gary Oldman\"\n",
    "            ],\n",
    "            \"genre\": [\"Action\", \"Crime\", \"Drama\"],\n",
    "            \"budget\": \"$185,000,000\",\n",
    "            \"boxOffice\": \"$1,005,000,000\",\n",
    "            \"synopsis\": \"Batman faces his greatest psychological and physical challenge when the menacing Joker emerges to create chaos and force the Dark Knight closer to crossing the fine line between hero and vigilante.\"\n",
    "        }, },\n",
    "    {\n",
    "        \"title\": \"La La Land\",\n",
    "        \"answer\": {\n",
    "            \"year\": 2016,\n",
    "            \"director\": \"Damien Chazelle\",\n",
    "            \"mainCast\": [\n",
    "                \"Ryan Gosling\",\n",
    "                \"Emma Stone\",\n",
    "                \"John Legend\",\n",
    "                \"Rosemarie DeWitt\",\n",
    "                \"J.K. Simmons\"\n",
    "            ],\n",
    "            \"genre\": [\"Musical\", \"Romance\", \"Drama\"],\n",
    "            \"budget\": \"$30,000,000\",\n",
    "            \"boxOffice\": \"$472,000,000\",\n",
    "            \"synopsis\": \"A jazz pianist and an aspiring actress fall in love while pursuing their dreams in Los Angeles, but their success threatens to pull them apart as they must choose between their love and their careers.\"\n",
    "        }, }\n",
    "]"
   ]
  },
  {
   "cell_type": "code",
   "execution_count": 8,
   "id": "6afac852",
   "metadata": {},
   "outputs": [],
   "source": [
    "example_prompt = ChatPromptTemplate.from_messages(\n",
    "    [\n",
    "        (\"human\", \"What do you know about movie {title}?\"),\n",
    "        (\"ai\", \"{answer}\"),\n",
    "    ]\n",
    ")\n",
    "\n",
    "example_prompt = FewShotChatMessagePromptTemplate(\n",
    "    example_prompt=example_prompt,\n",
    "    examples=examples,\n",
    ")\n",
    "\n",
    "final_prompt = ChatPromptTemplate.from_messages(\n",
    "    [\n",
    "        (\"system\", \"You are a Film Historians & Scholars, you give a structured answer with jason format.\"),\n",
    "        example_prompt,\n",
    "        (\"human\", \"What do you know about movie {title}?\"),\n",
    "    ]\n",
    ")\n",
    "\n",
    "chain = final_prompt | chat"
   ]
  },
  {
   "cell_type": "code",
   "execution_count": 9,
   "id": "b1d52eca",
   "metadata": {},
   "outputs": [
    {
     "name": "stdout",
     "output_type": "stream",
     "text": [
      "{'year': 2014, 'director': 'Christopher Nolan', 'mainCast': ['Matthew McConaughey', 'Anne Hathaway', 'Jessica Chastain', 'Michael Caine', 'Matt Damon'], 'genre': ['Science Fiction', 'Drama'], 'budget': '$165,000,000', 'boxOffice': '$677,500,000', 'synopsis': 'A team of explorers travel through a wormhole in space in an attempt to ensure humanity\\'s survival as Earth faces a global food crisis and a deteriorating environment.'}"
     ]
    },
    {
     "data": {
      "text/plain": [
       "AIMessageChunk(content=\"{'year': 2014, 'director': 'Christopher Nolan', 'mainCast': ['Matthew McConaughey', 'Anne Hathaway', 'Jessica Chastain', 'Michael Caine', 'Matt Damon'], 'genre': ['Science Fiction', 'Drama'], 'budget': '$165,000,000', 'boxOffice': '$677,500,000', 'synopsis': 'A team of explorers travel through a wormhole in space in an attempt to ensure humanity\\\\'s survival as Earth faces a global food crisis and a deteriorating environment.'}\")"
      ]
     },
     "execution_count": 9,
     "metadata": {},
     "output_type": "execute_result"
    }
   ],
   "source": [
    "chain.invoke({\"title\": \"Interstellar\"})"
   ]
  }
 ],
 "metadata": {
  "kernelspec": {
   "display_name": "venv (3.10.12)",
   "language": "python",
   "name": "python3"
  },
  "language_info": {
   "codemirror_mode": {
    "name": "ipython",
    "version": 3
   },
   "file_extension": ".py",
   "mimetype": "text/x-python",
   "name": "python",
   "nbconvert_exporter": "python",
   "pygments_lexer": "ipython3",
   "version": "3.10.12"
  }
 },
 "nbformat": 4,
 "nbformat_minor": 5
}
